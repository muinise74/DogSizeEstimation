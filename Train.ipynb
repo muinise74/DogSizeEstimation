{
 "cells": [
  {
   "cell_type": "code",
   "execution_count": 1,
   "id": "e3d48c19",
   "metadata": {},
   "outputs": [],
   "source": [
    "from tensorflow.keras import layers\n",
    "from tensorflow import keras\n",
    "import tensorflow as tf"
   ]
  },
  {
   "cell_type": "code",
   "execution_count": 2,
   "id": "24c3760f",
   "metadata": {},
   "outputs": [],
   "source": [
    "from imgaug.augmentables.kps import KeypointsOnImage\n",
    "from imgaug.augmentables.kps import Keypoint\n",
    "import imgaug.augmenters as iaa"
   ]
  },
  {
   "cell_type": "code",
   "execution_count": 3,
   "id": "248890f4",
   "metadata": {},
   "outputs": [],
   "source": [
    "from PIL import Image\n",
    "from sklearn.model_selection import train_test_split\n",
    "from matplotlib import pyplot as plt\n",
    "import pandas as pd\n",
    "import numpy as np\n",
    "import json\n",
    "import os"
   ]
  },
  {
   "cell_type": "code",
   "execution_count": 4,
   "id": "2b27cac3",
   "metadata": {},
   "outputs": [],
   "source": [
    "IMG_DIR = './'\n",
    "JSON = 'animal.json'\n",
    "KEYPOINT_DEF = pd.read_csv('keypoint_def.csv')"
   ]
  },
  {
   "cell_type": "code",
   "execution_count": 5,
   "id": "35ebbb6a",
   "metadata": {},
   "outputs": [],
   "source": [
    "with open(JSON) as infile:\n",
    "    json_dict = json.load(infile)"
   ]
  },
  {
   "cell_type": "code",
   "execution_count": 6,
   "id": "6729979b",
   "metadata": {},
   "outputs": [],
   "source": [
    "colours = KEYPOINT_DEF[\"Hex colour\"].values.tolist()\n",
    "colours = [\"#\" + colour for colour in colours]\n",
    "labels = KEYPOINT_DEF[\"Name\"].values.tolist()"
   ]
  },
  {
   "cell_type": "code",
   "execution_count": 7,
   "id": "9e037db3",
   "metadata": {},
   "outputs": [],
   "source": [
    "def get_dog(name):\n",
    "    data = json_dict[name]\n",
    "    img_data = plt.imread(os.path.join(IMG_DIR, data[\"img_path\"]))\n",
    "    # If the image is RGBA convert it to RGB.\n",
    "    if img_data.shape[-1] == 4:\n",
    "        img_data = img_data.astype(np.uint8)\n",
    "        img_data = Image.fromarray(img_data)\n",
    "        img_data = np.array(img_data.convert(\"RGB\"))\n",
    "    data[\"img_data\"] = img_data\n",
    "\n",
    "    return data"
   ]
  },
  {
   "cell_type": "code",
   "execution_count": 8,
   "id": "b25fd8bc",
   "metadata": {},
   "outputs": [],
   "source": [
    "def visualize_keypoints(images, keypoints):\n",
    "    fig, axes = plt.subplots(nrows=len(images), ncols=2, figsize=(16, 12))\n",
    "    [ax.axis(\"off\") for ax in np.ravel(axes)]\n",
    "\n",
    "    for (ax_orig, ax_all), image, current_keypoint in zip(axes, images, keypoints):\n",
    "        ax_orig.imshow(image)\n",
    "        ax_all.imshow(image)\n",
    "\n",
    "        # If the keypoints were formed by `imgaug` then the coordinates need\n",
    "        # to be iterated differently.\n",
    "        if isinstance(current_keypoint, KeypointsOnImage):\n",
    "            for idx, kp in enumerate(current_keypoint.keypoints):\n",
    "                ax_all.scatter(\n",
    "                    [kp.x], [kp.y], c=colours[idx], marker=\"x\", s=50, linewidths=5\n",
    "                )\n",
    "        else:\n",
    "            current_keypoint = np.array(current_keypoint)\n",
    "            # Since the last entry is the visibility flag, we discard it.\n",
    "            current_keypoint = current_keypoint[:, :2]\n",
    "            for idx, (x, y) in enumerate(current_keypoint):\n",
    "                ax_all.scatter([x], [y], c=colours[idx], marker=\"x\", s=50, linewidths=5)\n",
    "\n",
    "    plt.tight_layout(pad=2.0)\n",
    "    plt.show()"
   ]
  },
  {
   "cell_type": "code",
   "execution_count": 9,
   "id": "77c19a64",
   "metadata": {},
   "outputs": [],
   "source": [
    "samples = list(json_dict.keys())\n",
    "num_samples = 4\n",
    "selected_samples = np.random.choice(samples, num_samples, replace=False)\n",
    "\n",
    "images, keypoints = [], []"
   ]
  },
  {
   "cell_type": "code",
   "execution_count": 10,
   "id": "16f6de9c",
   "metadata": {},
   "outputs": [],
   "source": [
    "for sample in selected_samples:\n",
    "    data = get_dog(sample)\n",
    "    image = data[\"img_data\"]\n",
    "    keypoint = data[\"joints\"]\n",
    "    images.append(image)\n",
    "    keypoints.append(keypoint)"
   ]
  },
  {
   "cell_type": "code",
   "execution_count": 11,
   "id": "69aac38e",
   "metadata": {},
   "outputs": [],
   "source": [
    "BATCH_SIZE = 6\n",
    "EPOCHS = 50\n",
    "NUM_KEYPOINTS = 20 * 2"
   ]
  },
  {
   "cell_type": "code",
   "execution_count": 12,
   "id": "df7fe5e4",
   "metadata": {},
   "outputs": [],
   "source": [
    "class KeyPointsDataset(keras.utils.Sequence):\n",
    "    def __init__(self, image_keys, aug, batch_size=BATCH_SIZE, train=True):\n",
    "        self.image_keys = image_keys\n",
    "        self.aug = aug\n",
    "        self.batch_size = batch_size\n",
    "        self.train = train\n",
    "        self.on_epoch_end()\n",
    "\n",
    "    def __len__(self):\n",
    "        return len(self.image_keys) // self.batch_size\n",
    "\n",
    "    def on_epoch_end(self):\n",
    "        self.indexes = np.arange(len(self.image_keys))\n",
    "        if self.train:\n",
    "            np.random.shuffle(self.indexes)\n",
    "\n",
    "    def __getitem__(self, index):\n",
    "        indexes = self.indexes[index * self.batch_size : (index + 1) * self.batch_size]\n",
    "        image_keys_temp = [self.image_keys[k] for k in indexes]\n",
    "        (images, keypoints) = self.__data_generation(image_keys_temp)\n",
    "\n",
    "        return (images, keypoints)\n",
    "\n",
    "    def __data_generation(self, image_keys_temp):\n",
    "        batch_images = np.empty((self.batch_size, IMG_SIZE, IMG_SIZE, 3), dtype=\"int\")\n",
    "        batch_keypoints = np.empty(\n",
    "            (self.batch_size, 1, 1, NUM_KEYPOINTS), dtype=\"float32\"\n",
    "        )\n",
    "\n",
    "        for i, key in enumerate(image_keys_temp):\n",
    "            data = get_dog(key)\n",
    "            current_keypoint = np.array(data[\"joints\"])[:, :2]\n",
    "            kps = []\n",
    "\n",
    "            # To apply our data augmentation pipeline, we first need to\n",
    "            # form Keypoint objects with the original coordinates.\n",
    "            for j in range(0, len(current_keypoint)):\n",
    "                kps.append(Keypoint(x=current_keypoint[j][0], y=current_keypoint[j][1]))\n",
    "\n",
    "            # We then project the original image and its keypoint coordinates.\n",
    "            current_image = data[\"img_data\"]\n",
    "            kps_obj = KeypointsOnImage(kps, shape=current_image.shape)\n",
    "\n",
    "            # Apply the augmentation pipeline.\n",
    "            (new_image, new_kps_obj) = self.aug(image=current_image, keypoints=kps_obj)\n",
    "            batch_images[i,] = new_image\n",
    "\n",
    "            # Parse the coordinates from the new keypoint object.\n",
    "            kp_temp = []\n",
    "            for keypoint in new_kps_obj:\n",
    "                kp_temp.append(np.nan_to_num(keypoint.x))\n",
    "                kp_temp.append(np.nan_to_num(keypoint.y))\n",
    "\n",
    "            # More on why this reshaping later.\n",
    "            batch_keypoints[i,] = np.array(kp_temp)\n",
    "\n",
    "        # Scale the coordinates to [0, 1] range.\n",
    "        batch_keypoints = batch_keypoints\n",
    "\n",
    "        return (batch_images, batch_keypoints)"
   ]
  },
  {
   "cell_type": "code",
   "execution_count": 13,
   "id": "54f97b5a",
   "metadata": {},
   "outputs": [],
   "source": [
    "np.random.shuffle(samples)\n",
    "train_keys, validation_keys = (\n",
    "    samples[int(len(samples) * 0.3) :],\n",
    "    samples[: int(len(samples) * 0.3)],\n",
    ")"
   ]
  },
  {
   "cell_type": "code",
   "execution_count": 14,
   "id": "6f8db0d6",
   "metadata": {},
   "outputs": [],
   "source": [
    "train_aug = iaa.Sequential(\n",
    "    [\n",
    "        iaa.Fliplr(0.3),\n",
    "        # `Sometimes()` applies a function randomly to the inputs with\n",
    "        # a given probability (0.3, in this case).\n",
    "        iaa.Sometimes(0.3, iaa.Affine(rotate=10, scale=(0.5, 0.7))),\n",
    "    ]\n",
    ")\n",
    "\n",
    "test_aug = iaa.Sequential()"
   ]
  },
  {
   "cell_type": "code",
   "execution_count": 15,
   "id": "a9f8ceb7",
   "metadata": {
    "scrolled": false
   },
   "outputs": [
    {
     "name": "stdout",
     "output_type": "stream",
     "text": [
      "Total batches in training set: 23\n",
      "Total batches in validation set: 10\n"
     ]
    },
    {
     "ename": "NameError",
     "evalue": "name 'IMG_SIZE' is not defined",
     "output_type": "error",
     "traceback": [
      "\u001b[1;31m---------------------------------------------------------------------------\u001b[0m",
      "\u001b[1;31mNameError\u001b[0m                                 Traceback (most recent call last)",
      "\u001b[1;32m~\\AppData\\Local\\Temp/ipykernel_5440/1222760287.py\u001b[0m in \u001b[0;36m<module>\u001b[1;34m\u001b[0m\n\u001b[0;32m      5\u001b[0m \u001b[0mprint\u001b[0m\u001b[1;33m(\u001b[0m\u001b[1;34mf\"Total batches in validation set: {len(validation_dataset)}\"\u001b[0m\u001b[1;33m)\u001b[0m\u001b[1;33m\u001b[0m\u001b[1;33m\u001b[0m\u001b[0m\n\u001b[0;32m      6\u001b[0m \u001b[1;33m\u001b[0m\u001b[0m\n\u001b[1;32m----> 7\u001b[1;33m \u001b[0msample_images\u001b[0m\u001b[1;33m,\u001b[0m \u001b[0msample_keypoints\u001b[0m \u001b[1;33m=\u001b[0m \u001b[0mnext\u001b[0m\u001b[1;33m(\u001b[0m\u001b[0miter\u001b[0m\u001b[1;33m(\u001b[0m\u001b[0mtrain_dataset\u001b[0m\u001b[1;33m)\u001b[0m\u001b[1;33m)\u001b[0m\u001b[1;33m\u001b[0m\u001b[1;33m\u001b[0m\u001b[0m\n\u001b[0m\u001b[0;32m      8\u001b[0m \u001b[1;32massert\u001b[0m \u001b[0msample_keypoints\u001b[0m\u001b[1;33m.\u001b[0m\u001b[0mmax\u001b[0m\u001b[1;33m(\u001b[0m\u001b[1;33m)\u001b[0m \u001b[1;33m==\u001b[0m \u001b[1;36m1.0\u001b[0m\u001b[1;33m\u001b[0m\u001b[1;33m\u001b[0m\u001b[0m\n\u001b[0;32m      9\u001b[0m \u001b[1;32massert\u001b[0m \u001b[0msample_keypoints\u001b[0m\u001b[1;33m.\u001b[0m\u001b[0mmin\u001b[0m\u001b[1;33m(\u001b[0m\u001b[1;33m)\u001b[0m \u001b[1;33m==\u001b[0m \u001b[1;36m0.0\u001b[0m\u001b[1;33m\u001b[0m\u001b[1;33m\u001b[0m\u001b[0m\n",
      "\u001b[1;32m~\\anaconda3\\lib\\site-packages\\keras\\utils\\data_utils.py\u001b[0m in \u001b[0;36m__iter__\u001b[1;34m(self)\u001b[0m\n\u001b[0;32m    483\u001b[0m   \u001b[1;32mdef\u001b[0m \u001b[0m__iter__\u001b[0m\u001b[1;33m(\u001b[0m\u001b[0mself\u001b[0m\u001b[1;33m)\u001b[0m\u001b[1;33m:\u001b[0m\u001b[1;33m\u001b[0m\u001b[1;33m\u001b[0m\u001b[0m\n\u001b[0;32m    484\u001b[0m     \u001b[1;34m\"\"\"Create a generator that iterate over the Sequence.\"\"\"\u001b[0m\u001b[1;33m\u001b[0m\u001b[1;33m\u001b[0m\u001b[0m\n\u001b[1;32m--> 485\u001b[1;33m     \u001b[1;32mfor\u001b[0m \u001b[0mitem\u001b[0m \u001b[1;32min\u001b[0m \u001b[1;33m(\u001b[0m\u001b[0mself\u001b[0m\u001b[1;33m[\u001b[0m\u001b[0mi\u001b[0m\u001b[1;33m]\u001b[0m \u001b[1;32mfor\u001b[0m \u001b[0mi\u001b[0m \u001b[1;32min\u001b[0m \u001b[0mrange\u001b[0m\u001b[1;33m(\u001b[0m\u001b[0mlen\u001b[0m\u001b[1;33m(\u001b[0m\u001b[0mself\u001b[0m\u001b[1;33m)\u001b[0m\u001b[1;33m)\u001b[0m\u001b[1;33m)\u001b[0m\u001b[1;33m:\u001b[0m\u001b[1;33m\u001b[0m\u001b[1;33m\u001b[0m\u001b[0m\n\u001b[0m\u001b[0;32m    486\u001b[0m       \u001b[1;32myield\u001b[0m \u001b[0mitem\u001b[0m\u001b[1;33m\u001b[0m\u001b[1;33m\u001b[0m\u001b[0m\n\u001b[0;32m    487\u001b[0m \u001b[1;33m\u001b[0m\u001b[0m\n",
      "\u001b[1;32m~\\anaconda3\\lib\\site-packages\\keras\\utils\\data_utils.py\u001b[0m in \u001b[0;36m<genexpr>\u001b[1;34m(.0)\u001b[0m\n\u001b[0;32m    483\u001b[0m   \u001b[1;32mdef\u001b[0m \u001b[0m__iter__\u001b[0m\u001b[1;33m(\u001b[0m\u001b[0mself\u001b[0m\u001b[1;33m)\u001b[0m\u001b[1;33m:\u001b[0m\u001b[1;33m\u001b[0m\u001b[1;33m\u001b[0m\u001b[0m\n\u001b[0;32m    484\u001b[0m     \u001b[1;34m\"\"\"Create a generator that iterate over the Sequence.\"\"\"\u001b[0m\u001b[1;33m\u001b[0m\u001b[1;33m\u001b[0m\u001b[0m\n\u001b[1;32m--> 485\u001b[1;33m     \u001b[1;32mfor\u001b[0m \u001b[0mitem\u001b[0m \u001b[1;32min\u001b[0m \u001b[1;33m(\u001b[0m\u001b[0mself\u001b[0m\u001b[1;33m[\u001b[0m\u001b[0mi\u001b[0m\u001b[1;33m]\u001b[0m \u001b[1;32mfor\u001b[0m \u001b[0mi\u001b[0m \u001b[1;32min\u001b[0m \u001b[0mrange\u001b[0m\u001b[1;33m(\u001b[0m\u001b[0mlen\u001b[0m\u001b[1;33m(\u001b[0m\u001b[0mself\u001b[0m\u001b[1;33m)\u001b[0m\u001b[1;33m)\u001b[0m\u001b[1;33m)\u001b[0m\u001b[1;33m:\u001b[0m\u001b[1;33m\u001b[0m\u001b[1;33m\u001b[0m\u001b[0m\n\u001b[0m\u001b[0;32m    486\u001b[0m       \u001b[1;32myield\u001b[0m \u001b[0mitem\u001b[0m\u001b[1;33m\u001b[0m\u001b[1;33m\u001b[0m\u001b[0m\n\u001b[0;32m    487\u001b[0m \u001b[1;33m\u001b[0m\u001b[0m\n",
      "\u001b[1;32m~\\AppData\\Local\\Temp/ipykernel_5440/1404459720.py\u001b[0m in \u001b[0;36m__getitem__\u001b[1;34m(self, index)\u001b[0m\n\u001b[0;32m     18\u001b[0m         \u001b[0mindexes\u001b[0m \u001b[1;33m=\u001b[0m \u001b[0mself\u001b[0m\u001b[1;33m.\u001b[0m\u001b[0mindexes\u001b[0m\u001b[1;33m[\u001b[0m\u001b[0mindex\u001b[0m \u001b[1;33m*\u001b[0m \u001b[0mself\u001b[0m\u001b[1;33m.\u001b[0m\u001b[0mbatch_size\u001b[0m \u001b[1;33m:\u001b[0m \u001b[1;33m(\u001b[0m\u001b[0mindex\u001b[0m \u001b[1;33m+\u001b[0m \u001b[1;36m1\u001b[0m\u001b[1;33m)\u001b[0m \u001b[1;33m*\u001b[0m \u001b[0mself\u001b[0m\u001b[1;33m.\u001b[0m\u001b[0mbatch_size\u001b[0m\u001b[1;33m]\u001b[0m\u001b[1;33m\u001b[0m\u001b[1;33m\u001b[0m\u001b[0m\n\u001b[0;32m     19\u001b[0m         \u001b[0mimage_keys_temp\u001b[0m \u001b[1;33m=\u001b[0m \u001b[1;33m[\u001b[0m\u001b[0mself\u001b[0m\u001b[1;33m.\u001b[0m\u001b[0mimage_keys\u001b[0m\u001b[1;33m[\u001b[0m\u001b[0mk\u001b[0m\u001b[1;33m]\u001b[0m \u001b[1;32mfor\u001b[0m \u001b[0mk\u001b[0m \u001b[1;32min\u001b[0m \u001b[0mindexes\u001b[0m\u001b[1;33m]\u001b[0m\u001b[1;33m\u001b[0m\u001b[1;33m\u001b[0m\u001b[0m\n\u001b[1;32m---> 20\u001b[1;33m         \u001b[1;33m(\u001b[0m\u001b[0mimages\u001b[0m\u001b[1;33m,\u001b[0m \u001b[0mkeypoints\u001b[0m\u001b[1;33m)\u001b[0m \u001b[1;33m=\u001b[0m \u001b[0mself\u001b[0m\u001b[1;33m.\u001b[0m\u001b[0m__data_generation\u001b[0m\u001b[1;33m(\u001b[0m\u001b[0mimage_keys_temp\u001b[0m\u001b[1;33m)\u001b[0m\u001b[1;33m\u001b[0m\u001b[1;33m\u001b[0m\u001b[0m\n\u001b[0m\u001b[0;32m     21\u001b[0m \u001b[1;33m\u001b[0m\u001b[0m\n\u001b[0;32m     22\u001b[0m         \u001b[1;32mreturn\u001b[0m \u001b[1;33m(\u001b[0m\u001b[0mimages\u001b[0m\u001b[1;33m,\u001b[0m \u001b[0mkeypoints\u001b[0m\u001b[1;33m)\u001b[0m\u001b[1;33m\u001b[0m\u001b[1;33m\u001b[0m\u001b[0m\n",
      "\u001b[1;32m~\\AppData\\Local\\Temp/ipykernel_5440/1404459720.py\u001b[0m in \u001b[0;36m__data_generation\u001b[1;34m(self, image_keys_temp)\u001b[0m\n\u001b[0;32m     23\u001b[0m \u001b[1;33m\u001b[0m\u001b[0m\n\u001b[0;32m     24\u001b[0m     \u001b[1;32mdef\u001b[0m \u001b[0m__data_generation\u001b[0m\u001b[1;33m(\u001b[0m\u001b[0mself\u001b[0m\u001b[1;33m,\u001b[0m \u001b[0mimage_keys_temp\u001b[0m\u001b[1;33m)\u001b[0m\u001b[1;33m:\u001b[0m\u001b[1;33m\u001b[0m\u001b[1;33m\u001b[0m\u001b[0m\n\u001b[1;32m---> 25\u001b[1;33m         \u001b[0mbatch_images\u001b[0m \u001b[1;33m=\u001b[0m \u001b[0mnp\u001b[0m\u001b[1;33m.\u001b[0m\u001b[0mempty\u001b[0m\u001b[1;33m(\u001b[0m\u001b[1;33m(\u001b[0m\u001b[0mself\u001b[0m\u001b[1;33m.\u001b[0m\u001b[0mbatch_size\u001b[0m\u001b[1;33m,\u001b[0m \u001b[0mIMG_SIZE\u001b[0m\u001b[1;33m,\u001b[0m \u001b[0mIMG_SIZE\u001b[0m\u001b[1;33m,\u001b[0m \u001b[1;36m3\u001b[0m\u001b[1;33m)\u001b[0m\u001b[1;33m,\u001b[0m \u001b[0mdtype\u001b[0m\u001b[1;33m=\u001b[0m\u001b[1;34m\"int\"\u001b[0m\u001b[1;33m)\u001b[0m\u001b[1;33m\u001b[0m\u001b[1;33m\u001b[0m\u001b[0m\n\u001b[0m\u001b[0;32m     26\u001b[0m         batch_keypoints = np.empty(\n\u001b[0;32m     27\u001b[0m             \u001b[1;33m(\u001b[0m\u001b[0mself\u001b[0m\u001b[1;33m.\u001b[0m\u001b[0mbatch_size\u001b[0m\u001b[1;33m,\u001b[0m \u001b[1;36m1\u001b[0m\u001b[1;33m,\u001b[0m \u001b[1;36m1\u001b[0m\u001b[1;33m,\u001b[0m \u001b[0mNUM_KEYPOINTS\u001b[0m\u001b[1;33m)\u001b[0m\u001b[1;33m,\u001b[0m \u001b[0mdtype\u001b[0m\u001b[1;33m=\u001b[0m\u001b[1;34m\"float32\"\u001b[0m\u001b[1;33m\u001b[0m\u001b[1;33m\u001b[0m\u001b[0m\n",
      "\u001b[1;31mNameError\u001b[0m: name 'IMG_SIZE' is not defined"
     ]
    }
   ],
   "source": [
    "train_dataset = KeyPointsDataset(train_keys, train_aug)\n",
    "validation_dataset = KeyPointsDataset(validation_keys, test_aug, train=False)\n",
    "\n",
    "print(f\"Total batches in training set: {len(train_dataset)}\")\n",
    "print(f\"Total batches in validation set: {len(validation_dataset)}\")\n",
    "\n",
    "sample_images, sample_keypoints = next(iter(train_dataset))\n",
    "assert sample_keypoints.max() == 1.0\n",
    "assert sample_keypoints.min() == 0.0\n",
    "\n",
    "sample_keypoints = sample_keypoints[:4]\n",
    "visualize_keypoints(sample_images[:4], sample_keypoints)"
   ]
  },
  {
   "cell_type": "code",
   "execution_count": null,
   "id": "3d50a49c",
   "metadata": {},
   "outputs": [],
   "source": [
    "def get_model():\n",
    "    # Load the pre-trained weights of MobileNetV2 and freeze the weights\n",
    "    backbone = keras.applications.MobileNetV2(\n",
    "        weights=\"imagenet\", include_top=False, input_shape=(IMG_SIZE, IMG_SIZE, 3)\n",
    "    )\n",
    "    backbone.trainable = False\n",
    "\n",
    "    inputs = layers.Input((IMG_SIZE, IMG_SIZE, 3))\n",
    "    x = keras.applications.mobilenet_v2.preprocess_input(inputs)\n",
    "    x = backbone(x)\n",
    "    x = layers.Dropout(0.3)(x)\n",
    "    x = layers.SeparableConv2D(\n",
    "        NUM_KEYPOINTS, kernel_size=5, strides=1, activation=\"relu\"\n",
    "    )(x)\n",
    "    outputs = layers.SeparableConv2D(\n",
    "        NUM_KEYPOINTS, kernel_size=3, strides=1, activation=\"sigmoid\"\n",
    "    )(x)\n",
    "\n",
    "    return keras.Model(inputs, outputs, name=\"keypoint_detector\")"
   ]
  },
  {
   "cell_type": "code",
   "execution_count": null,
   "id": "17f92bc3",
   "metadata": {},
   "outputs": [],
   "source": [
    "get_model().summary()"
   ]
  },
  {
   "cell_type": "code",
   "execution_count": null,
   "id": "71eae1a5",
   "metadata": {
    "scrolled": true
   },
   "outputs": [],
   "source": [
    "model = get_model()\n",
    "model.compile(loss=\"mse\", optimizer=keras.optimizers.Adam(1e-4))\n",
    "model.fit(train_dataset, validation_data=validation_dataset, epochs=EPOCHS)"
   ]
  },
  {
   "cell_type": "code",
   "execution_count": null,
   "id": "24097396",
   "metadata": {},
   "outputs": [],
   "source": [
    "sample_val_images, sample_val_keypoints = next(iter(validation_dataset))"
   ]
  },
  {
   "cell_type": "code",
   "execution_count": null,
   "id": "cdedb0d9",
   "metadata": {},
   "outputs": [],
   "source": [
    "sample_val_keypoints[:4]"
   ]
  },
  {
   "cell_type": "code",
   "execution_count": null,
   "id": "a18bb678",
   "metadata": {
    "scrolled": true
   },
   "outputs": [],
   "source": [
    "sample_val_images = sample_val_images[:4]\n",
    "sample_val_keypoints = sample_val_keypoints[:4]\n",
    "predictions = model.predict(sample_val_images)"
   ]
  },
  {
   "cell_type": "code",
   "execution_count": null,
   "id": "8c00d672",
   "metadata": {},
   "outputs": [],
   "source": [
    "# Ground-truth\n",
    "visualize_keypoints(sample_val_images, sample_val_keypoints)"
   ]
  },
  {
   "cell_type": "code",
   "execution_count": null,
   "id": "3446b657",
   "metadata": {
    "scrolled": false
   },
   "outputs": [],
   "source": [
    "# Predictions\n",
    "visualize_keypoints(sample_val_images, predictions)"
   ]
  },
  {
   "cell_type": "code",
   "execution_count": null,
   "id": "4538e2d7",
   "metadata": {},
   "outputs": [],
   "source": [
    "predictions"
   ]
  }
 ],
 "metadata": {
  "kernelspec": {
   "display_name": "Python 3 (ipykernel)",
   "language": "python",
   "name": "python3"
  },
  "language_info": {
   "codemirror_mode": {
    "name": "ipython",
    "version": 3
   },
   "file_extension": ".py",
   "mimetype": "text/x-python",
   "name": "python",
   "nbconvert_exporter": "python",
   "pygments_lexer": "ipython3",
   "version": "3.9.7"
  },
  "toc": {
   "base_numbering": 1,
   "nav_menu": {},
   "number_sections": true,
   "sideBar": true,
   "skip_h1_title": false,
   "title_cell": "Table of Contents",
   "title_sidebar": "Contents",
   "toc_cell": false,
   "toc_position": {},
   "toc_section_display": true,
   "toc_window_display": false
  }
 },
 "nbformat": 4,
 "nbformat_minor": 5
}
